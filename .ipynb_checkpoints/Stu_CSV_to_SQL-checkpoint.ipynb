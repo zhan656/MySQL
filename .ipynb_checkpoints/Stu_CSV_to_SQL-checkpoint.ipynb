{
 "cells": [
  {
   "cell_type": "code",
   "execution_count": null,
   "metadata": {
    "collapsed": true
   },
   "outputs": [],
   "source": [
    "!rm demographics.sqlite cleaned_csv.csv"
   ]
  },
  {
   "cell_type": "code",
   "execution_count": null,
   "metadata": {
    "collapsed": true
   },
   "outputs": [],
   "source": [
    "import pandas as pd\n",
    "import numpy as np\n",
    "import os"
   ]
  },
  {
   "cell_type": "code",
   "execution_count": null,
   "metadata": {
    "collapsed": true
   },
   "outputs": [],
   "source": [
    "# CSV file\n",
    "csvfile = \"demographics.csv\""
   ]
  },
  {
   "cell_type": "code",
   "execution_count": null,
   "metadata": {
    "collapsed": true,
    "deletable": false,
    "nbgrader": {
     "checksum": "b7efb0375c87d1e9c6554c126c8fe72f",
     "grade": false,
     "grade_id": "cell-1756496f1ac57a06",
     "locked": false,
     "schema_version": 1,
     "solution": true
    }
   },
   "outputs": [],
   "source": [
    "# Read CSV file into a pandas DataFrame\n",
    "# YOUR CODE HERE"
   ]
  },
  {
   "cell_type": "code",
   "execution_count": null,
   "metadata": {
    "collapsed": true,
    "deletable": false,
    "nbgrader": {
     "checksum": "bbdf2b4f0ed7ad620d4349e18c7b6b2d",
     "grade": false,
     "grade_id": "cell-8fca0dd11221aafd",
     "locked": false,
     "schema_version": 1,
     "solution": true
    }
   },
   "outputs": [],
   "source": [
    "# Use `dropna` to drop any rows where there is missing data\n",
    "# YOUR CODE HERE"
   ]
  },
  {
   "cell_type": "code",
   "execution_count": null,
   "metadata": {
    "collapsed": true,
    "deletable": false,
    "nbgrader": {
     "checksum": "41ebb5f81d2ff7db6026feb12c0bb045",
     "grade": false,
     "grade_id": "cell-51f491a7ae7a6a50",
     "locked": false,
     "schema_version": 1,
     "solution": true
    }
   },
   "outputs": [],
   "source": [
    "# Drop the `name` column and reset the index\n",
    "# YOUR CODE HERE"
   ]
  },
  {
   "cell_type": "code",
   "execution_count": null,
   "metadata": {
    "collapsed": true,
    "deletable": false,
    "nbgrader": {
     "checksum": "7e3b0b24a1ea394d6e97e33e278636a8",
     "grade": false,
     "grade_id": "cell-d4d93ab46f0c4c50",
     "locked": false,
     "schema_version": 1,
     "solution": true
    }
   },
   "outputs": [],
   "source": [
    "# Save the cleaned data to a file called `cleaned_demographics.csv`\n",
    "# YOUR CODE HERE"
   ]
  },
  {
   "cell_type": "code",
   "execution_count": null,
   "metadata": {
    "collapsed": true
   },
   "outputs": [],
   "source": [
    "# Python SQL toolkit and Object Relational Mapper\n",
    "import sqlalchemy\n",
    "from sqlalchemy import create_engine, MetaData\n",
    "from sqlalchemy.ext.declarative import declarative_base\n",
    "from sqlalchemy import Column, Integer, String, Numeric, Text, Float"
   ]
  },
  {
   "cell_type": "code",
   "execution_count": null,
   "metadata": {
    "collapsed": true,
    "deletable": false,
    "nbgrader": {
     "checksum": "ff3b11525403a6033bf90d610b7ab929",
     "grade": false,
     "grade_id": "cell-98f2e4153eb825b9",
     "locked": false,
     "schema_version": 1,
     "solution": true
    }
   },
   "outputs": [],
   "source": [
    "# Create an engine to a database file called `demographics.sqlite`\n",
    "# YOUR CODE HERE"
   ]
  },
  {
   "cell_type": "code",
   "execution_count": null,
   "metadata": {
    "collapsed": true,
    "deletable": false,
    "nbgrader": {
     "checksum": "bad12b0e2c5e8cab1d3901be49348da1",
     "grade": false,
     "grade_id": "cell-2ed864b6e4573e59",
     "locked": false,
     "schema_version": 1,
     "solution": true
    }
   },
   "outputs": [],
   "source": [
    "# Create a connection to the engine called `conn`\n",
    "# YOUR CODE HERE"
   ]
  },
  {
   "cell_type": "code",
   "execution_count": null,
   "metadata": {
    "collapsed": true
   },
   "outputs": [],
   "source": [
    "# Use `declarative_base` from SQLAlchemy to model the demographics table as an ORM class\n",
    "# Make sure to specify types for each column\n",
    "\n",
    "Base = declarative_base()\n",
    "\n",
    "class Demographics(Base):\n",
    "    __tablename__ = 'demographics'\n",
    "\n",
    "    id = Column(Integer, primary_key=True)\n",
    "    age = Column(Integer)\n",
    "    name = Column(Text)\n",
    "    height_meter = Column(Float)\n",
    "    weight_kg = Column(Float)\n",
    "    children = Column(Integer)\n",
    "    occupation = Column(Text)\n",
    "    academic_degree = Column(Text)\n",
    "    salary = Column(Integer)\n",
    "    location = Column(Text)\n",
    "\n",
    "    def __repr__(self):\n",
    "        return f\"id={self.id}, name={self.name}\""
   ]
  },
  {
   "cell_type": "code",
   "execution_count": null,
   "metadata": {
    "collapsed": true,
    "deletable": false,
    "nbgrader": {
     "checksum": "5122284b28a02761937e44beabab197a",
     "grade": false,
     "grade_id": "cell-d59cd212c9242236",
     "locked": false,
     "schema_version": 1,
     "solution": true
    }
   },
   "outputs": [],
   "source": [
    "# Use `create_all` to create the demographics table in the database\n",
    "# YOUR CODE HERE"
   ]
  },
  {
   "cell_type": "code",
   "execution_count": null,
   "metadata": {
    "collapsed": true,
    "deletable": false,
    "nbgrader": {
     "checksum": "266c40586aecdd224f561cd5b41366fd",
     "grade": false,
     "grade_id": "cell-7a708f12942ebf82",
     "locked": false,
     "schema_version": 1,
     "solution": true
    }
   },
   "outputs": [],
   "source": [
    "# Load the cleaned csv file into a pandas dataframe\n",
    "# YOUR CODE HERE"
   ]
  },
  {
   "cell_type": "code",
   "execution_count": null,
   "metadata": {
    "collapsed": true,
    "deletable": false,
    "nbgrader": {
     "checksum": "ed2213e91ede145569290ab77cf79278",
     "grade": false,
     "grade_id": "cell-2e4e9070e9d7731e",
     "locked": false,
     "schema_version": 1,
     "solution": true
    }
   },
   "outputs": [],
   "source": [
    "# Use Orient='records' to create a list of data to write\n",
    "# http://pandas-docs.github.io/pandas-docs-travis/io.html#orient-options\n",
    "# YOUR CODE HERE"
   ]
  },
  {
   "cell_type": "code",
   "execution_count": null,
   "metadata": {
    "collapsed": true,
    "deletable": false,
    "nbgrader": {
     "checksum": "ab3486e789ad1f422b85e0a121b902f4",
     "grade": false,
     "grade_id": "cell-9a0a95e483231aff",
     "locked": false,
     "schema_version": 1,
     "solution": true
    }
   },
   "outputs": [],
   "source": [
    "# Use MetaData from SQLAlchemy to reflect the tables\n",
    "# YOUR CODE HERE"
   ]
  },
  {
   "cell_type": "code",
   "execution_count": null,
   "metadata": {
    "collapsed": true,
    "deletable": false,
    "nbgrader": {
     "checksum": "a9816caaecce8e2f00883f9664799bf9",
     "grade": false,
     "grade_id": "cell-aa99bd37e7312721",
     "locked": false,
     "schema_version": 1,
     "solution": true
    }
   },
   "outputs": [],
   "source": [
    "# Save the reference to the `demographics` table as a variable called `table`\n",
    "# YOUR CODE HERE"
   ]
  },
  {
   "cell_type": "code",
   "execution_count": null,
   "metadata": {
    "collapsed": true,
    "deletable": false,
    "nbgrader": {
     "checksum": "b4de31b3c466aa4f23ae6a49aa424c1c",
     "grade": false,
     "grade_id": "cell-d14de7e133e456df",
     "locked": false,
     "schema_version": 1,
     "solution": true
    }
   },
   "outputs": [],
   "source": [
    "# Use `table.delete()` to remove any existing data.\n",
    "# Note that this is a convenience function so that you can re-run the example code multiple times.\n",
    "# You would not likely do this step in production.\n",
    "# YOUR CODE HERE"
   ]
  },
  {
   "cell_type": "code",
   "execution_count": null,
   "metadata": {
    "collapsed": true,
    "deletable": false,
    "nbgrader": {
     "checksum": "fba358c70e92ba246dbc02eb86f207e4",
     "grade": false,
     "grade_id": "cell-aa692b86da935657",
     "locked": false,
     "schema_version": 1,
     "solution": true
    }
   },
   "outputs": [],
   "source": [
    "# Use `table.insert()` to insert the data into the table\n",
    "# YOUR CODE HERE"
   ]
  },
  {
   "cell_type": "code",
   "execution_count": null,
   "metadata": {
    "collapsed": true
   },
   "outputs": [],
   "source": [
    "# Test that the insert works by fetching the first 5 rows. \n",
    "conn.execute(\"select * from demographics limit 5\").fetchall()"
   ]
  }
 ],
 "metadata": {
  "anaconda-cloud": {},
  "kernel_info": {
   "name": "python3"
  },
  "kernelspec": {
   "display_name": "Python 3",
   "language": "python",
   "name": "python3"
  },
  "language_info": {
   "codemirror_mode": {
    "name": "ipython",
    "version": 3
   },
   "file_extension": ".py",
   "mimetype": "text/x-python",
   "name": "python",
   "nbconvert_exporter": "python",
   "pygments_lexer": "ipython3",
   "version": "3.6.3"
  },
  "nteract": {
   "version": "0.2.0"
  },
  "varInspector": {
   "cols": {
    "lenName": 16,
    "lenType": 16,
    "lenVar": 40
   },
   "kernels_config": {
    "python": {
     "delete_cmd_postfix": "",
     "delete_cmd_prefix": "del ",
     "library": "var_list.py",
     "varRefreshCmd": "print(var_dic_list())"
    },
    "r": {
     "delete_cmd_postfix": ") ",
     "delete_cmd_prefix": "rm(",
     "library": "var_list.r",
     "varRefreshCmd": "cat(var_dic_list()) "
    }
   },
   "types_to_exclude": [
    "module",
    "function",
    "builtin_function_or_method",
    "instance",
    "_Feature"
   ],
   "window_display": false
  }
 },
 "nbformat": 4,
 "nbformat_minor": 2
}
